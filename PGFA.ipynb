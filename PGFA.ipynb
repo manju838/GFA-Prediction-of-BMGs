{
  "nbformat": 4,
  "nbformat_minor": 0,
  "metadata": {
    "colab": {
      "name": "PGFA.ipynb",
      "provenance": [],
      "mount_file_id": "1BHZUplVXoexCTRfbd8X1Twol9_LvMSJM",
      "authorship_tag": "ABX9TyNkDT+StZ+MCdmtqx2lH9oO",
      "include_colab_link": true
    },
    "kernelspec": {
      "name": "python3",
      "display_name": "Python 3"
    },
    "accelerator": "GPU"
  },
  "cells": [
    {
      "cell_type": "markdown",
      "metadata": {
        "id": "view-in-github",
        "colab_type": "text"
      },
      "source": [
        "<a href=\"https://colab.research.google.com/github/jaideep99/GFA-Predictor/blob/main/PGFA.ipynb\" target=\"_parent\"><img src=\"https://colab.research.google.com/assets/colab-badge.svg\" alt=\"Open In Colab\"/></a>"
      ]
    },
    {
      "cell_type": "code",
      "metadata": {
        "id": "oll8DPZ8GVvP"
      },
      "source": [
        "import numpy as np\n",
        "import pandas as pd\n",
        "import re\n",
        "import pickle\n",
        "import math\n",
        "import tensorflow as tf"
      ],
      "execution_count": 10,
      "outputs": []
    },
    {
      "cell_type": "code",
      "execution_count": null,
      "metadata": {},
      "outputs": [],
      "source": [
        "param = pd.read_csv(\"/content/drive/MyDrive/Mendeley Dataset/New_Folder/final_dataset_parameters.csv\")\n",
        "param.head()"
      ]
    },
    {
      "cell_type": "code",
      "execution_count": null,
      "metadata": {},
      "outputs": [],
      "source": [
        "# melting-point, enthalphy, electro-negativity, atomic-radius of elements\n",
        "param.set_index('Unnamed: 0', drop=True, inplace=True)\n",
        "pm = param.to_dict(orient=\"index\")"
      ]
    },
    {
      "cell_type": "code",
      "metadata": {
        "id": "XdeZetp-NDYf"
      },
      "source": [
        "# seperates big-small atoms\n",
        "def diff(x):\n",
        "\n",
        "  #making ranges for each atom\n",
        "  ranges = {}\n",
        "  for i in x:\n",
        "    ranges[i] = 0.88*pm[i]['ar']\n",
        "  \n",
        "  #compiling scoring matrix\n",
        "  score = {}\n",
        "  \n",
        "  for i in x:\n",
        "    dct = {}\n",
        "    for j in x:\n",
        "      if pm[i]['ar']<ranges[j]:\n",
        "        dct[j] = -1\n",
        "      elif pm[i]['ar']>pm[j]['ar']:\n",
        "        dct[j] = 1\n",
        "      else :\n",
        "        dct[j] = 0\n",
        "          \n",
        "    score[i] = dct\n",
        "    \n",
        "  b = []\n",
        "  sm = []\n",
        "  print()\n",
        "  #separating into big and small based on scoring matrix\n",
        "  for i in score:\n",
        "    sum = 0\n",
        "    for j in score[i]:\n",
        "      sum = sum+score[i][j]\n",
        "      \n",
        "    if(sum>0):\n",
        "      b.append(i)\n",
        "      \n",
        "    else : \n",
        "      sm.append(i)\n",
        "      \n",
        "      \n",
        "  return b,sm"
      ],
      "execution_count": 12,
      "outputs": []
    },
    {
      "cell_type": "code",
      "metadata": {
        "id": "N3TqU9vaUwca"
      },
      "source": [
        "#finds the paramater deltaE\n",
        "def electro(all,x):\n",
        "  k =0 #summation of product of composition and electro negativity\n",
        "  p = 0 #summation of compositions\n",
        "\n",
        "  for i in all:\n",
        "    if i in x:\n",
        "      p = p+all[i]\n",
        "  for i in all:\n",
        "    if i in x:\n",
        "      k = k+all[i]*pm[i]['en']\n",
        "  \n",
        "  return k/p"
      ],
      "execution_count": 13,
      "outputs": []
    },
    {
      "cell_type": "code",
      "metadata": {
        "id": "dMBuMH6cTox0"
      },
      "source": [
        "#finds the paramater deltaD\n",
        "def comps(all,x):\n",
        "  k =0 #summation of product of composition and atomic radii\n",
        "  p = 0 #summation of compositions\n",
        "\n",
        "  for i in all:\n",
        "    if i in x:\n",
        "      p = p+all[i]\n",
        "  for i in all:\n",
        "    if i in x:\n",
        "      k = k+all[i]*pm[i]['ar']\n",
        "  \n",
        "  return k/p"
      ],
      "execution_count": 14,
      "outputs": []
    },
    {
      "cell_type": "code",
      "metadata": {
        "id": "XEQmlHGENoJ1"
      },
      "source": [
        "def prepare_params(x):\n",
        "  #Seperating atoms from composition\n",
        "  s = re.sub(r'[^\\w\\s]','',x)\n",
        "  s = re.sub('\\d',' ',s)\n",
        "  els = np.array([i for i in s.split(' ') if i in pm])\n",
        "  print('\\nElements in BMG are : ', els)\n",
        "  \n",
        "  comp = re.findall(r\"[-+]?\\d*\\.\\d+|\\d+\",x)\n",
        "  comp = [float(i) for i in comp]\n",
        "  print('Compositions: ',comp)\n",
        "  \n",
        "  dcomp = dict(zip(els,comp))\n",
        "  smix = 0\n",
        "  hmix = 0\n",
        "\n",
        "  for i in dcomp:\n",
        "    smix = smix + (dcomp[i]/100)*(math.log((dcomp[i]/100)))\n",
        "    hmix = hmix + (dcomp[i]/100)*pm[i]['enthalphy']\n",
        "  smix = -1*smix\n",
        "\n",
        "  big,small = diff(els)\n",
        "\n",
        "  maxrad = 0.5137797338363198\n",
        "  maxen = 0.1441441441441441\n",
        "  rad = (comps(dcomp,big)-comps(dcomp,small))/(comps(dcomp,big))\n",
        "  rad = int((rad/maxrad)*100)\n",
        "  en = (electro(dcomp,big)-electro(dcomp,small))/(electro(dcomp,big)+electro(dcomp,small))\n",
        "  en = int((en/maxen)*100)\n",
        "\n",
        "  return [hmix,smix,rad,en]"
      ],
      "execution_count": 15,
      "outputs": []
    },
    {
      "cell_type": "code",
      "metadata": {
        "id": "ScFcC8AeW-AX"
      },
      "source": [
        "# Loads ANN model and applies it to predict GFA of given composition\n",
        "def predictGfaANN(bmg):\n",
        "  model = tf.keras.models.load_model('drop_model_final.h5')\n",
        "  inp = np.array([bmg])\n",
        "  pred = model.predict(inp)\n",
        "  return pred[0][0]"
      ],
      "execution_count": 20,
      "outputs": []
    },
    {
      "cell_type": "code",
      "metadata": {
        "id": "hC773R0yO8Ht"
      },
      "source": [
        "# Loads RF model and applies it to predict GFA of given composition\n",
        "def predictGfaRF(bmg):\n",
        "  rf_model = pickle.load(open('random_forest.sav', 'rb'))\n",
        "  inp = np.array([bmg])\n",
        "  pred = rf_model.predict(inp)\n",
        "  return pred[0]"
      ],
      "execution_count": 31,
      "outputs": []
    },
    {
      "cell_type": "code",
      "metadata": {
        "id": "Hsi5-idiQplv"
      },
      "source": [
        "# Applies pre-computed standard scaler on params/input\n",
        "def scaleParams(bmg):\n",
        "  scaler = pickle.load(open('st_scaler.sav', 'rb'))\n",
        "  bmg = np.array([bmg])\n",
        "  params_scaled = scaler.transform(bmg)\n",
        "  return params_scaled[0]"
      ],
      "execution_count": 28,
      "outputs": []
    },
    {
      "cell_type": "code",
      "metadata": {
        "id": "cOZgi-jgNZ9s",
        "colab": {
          "base_uri": "https://localhost:8080/"
        },
        "outputId": "4e091c8e-4a76-478a-d10a-46d8695644c4"
      },
      "source": [
        "bmg = input(\"Enter BMG elements and compositions : \")\n",
        "\n",
        "params = prepare_params(bmg)\n",
        "\n",
        "\n",
        "print(\"Computed Parameters are : \",params)\n",
        "\n",
        "params = scaleParams(params)\n",
        "print(\"Computed Scaled Parameters are : \",params)\n",
        "\n",
        "\n",
        "GFA_ANN = predictGfaANN(params)\n",
        "GFA_RF = predictGfaRF(params)\n",
        "\n",
        "print(\"\\nPredicted Dmax ANN: \",GFA_ANN)\n",
        "print(\"\\nPredicted Dmax ANN: \",GFA_RF)"
      ],
      "execution_count": 32,
      "outputs": [
        {
          "output_type": "stream",
          "text": [
            "Enter BMG elements and compositions : Pd73.5Cu10Si16.5\n",
            "\n",
            "Elements in BMG are :  ['Pd' 'Cu' 'Si']\n",
            "Compositions:  [73.5, 10.0, 16.5]\n",
            "\n",
            "Computed Parameters are :  [21.353, 0.7538524402682971, 49, 50]\n",
            "Computed Scaled Parameters are :  [ 1.0567944  -1.51735497 -1.15588644  2.3168874 ]\n",
            "\n",
            "Predicted Dmax ANN:  1.8465838\n",
            "\n",
            "Predicted Dmax ANN:  2.28125\n"
          ],
          "name": "stdout"
        }
      ]
    }
  ]
}